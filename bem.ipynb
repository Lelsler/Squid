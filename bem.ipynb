{
 "cells": [
  {
   "cell_type": "code",
   "execution_count": 1,
   "metadata": {},
   "outputs": [],
   "source": [
    "using JuMP\n",
    "using Ipopt\n",
    "using DataFrames\n",
    "import XLSX\n",
    "using CSV\n",
    "#using Plots\n",
    "#gr(fmt=:png);\n",
    "using PGFPlots\n",
    "using ColorBrewer\n",
    "\n",
    "abstract type Model end\n",
    "struct BEM <: Model end\n",
    "struct Migration <: Model end\n",
    "\n",
    "run = BEM();"
   ]
  },
  {
   "cell_type": "code",
   "execution_count": 2,
   "metadata": {},
   "outputs": [],
   "source": [
    "df2 = DataFrame(XLSX.readtable(\"./DATA/R3_data.xlsx\", \"Sheet1\")...)\n",
    "VolAll = Float64.(df2[:C_t][6:end-1]) ## CATCH DATA\n",
    "PrAll = Float64.([NaN; NaN; NaN; NaN; NaN; df2[:pf_MXNiat][11:end-1]]) ## PRICE DATA\n",
    "\n",
    "### New max time\n",
    "time = df2[:year][6]:0.1:df2[:year][end-1]; \n",
    "years = Int64.(df2[:year][6:end-1]);\n",
    "ML = df2[:ML][6:end-1];\n",
    "y_S = map(y-> parse(Float64, y), [\"1.0\"; df2[:y_S][7:end-1]]);\n",
    "tmax = length(years);\n",
    "(Cmax, CmaxIdx) = findmax(VolAll); # To calculate K. Should probably self reference this."
   ]
  },
  {
   "cell_type": "code",
   "execution_count": 3,
   "metadata": {},
   "outputs": [],
   "source": [
    "#TODO: see if varying q makes sense 0.01 < q < 0.5 (also vary K)\n",
    "q = 0.1;\n",
    "K = Cmax/q; #1208770# <- Laura is hardcoding to this.\n",
    "\n",
    "qML = q*((ML-minimum(ML))/(maximum(ML)-minimum(ML)))\n",
    "\n",
    "γₘ = 49200; # maximum demand\n",
    "β = 0.0736; # slope of demand-price function\n",
    "\n",
    "f = 40.0 # l of fuel per trip\n",
    "m = 5_492_603.58 # cost per unit of transport all boats, MXN/trip\n",
    "σ = m*f; # fleet cost of transport\n",
    "c_t = 107291548; # cost of fishing"
   ]
  },
  {
   "cell_type": "code",
   "execution_count": 4,
   "metadata": {},
   "outputs": [],
   "source": [
    "# Model with free effort (BEM)\n",
    "model = JuMP.Model(solver = IpoptSolver(print_level=3,max_iter=100000,print_frequency_iter=200,sb=\"yes\"));\n",
    "\n",
    "#@variable(model, 0.0 <= β <= 1.0) # slope of demand-price function\n",
    "#@variable(model, 20_000.0 <= γₘ <= 51_000.0) # maximum demand, t\n",
    "@variable(model, 0.0 <= g <= 3.2) # population growth rate\n",
    "@variable(model, 1000.0 <= κ <= 2148.0) # cost of processing, MXNia/t\n",
    "\n",
    "@variable(model, 0.0 <= E[t=1:tmax] <= 1.0) # fishing effort\n",
    "@variable(model, p_f[t=1:tmax]) # price for fishers\n",
    "@variable(model, K-(K*0.30) <= S[t=1:tmax] <= K+(K*0.30)) # size of the squid population, ±30% of K\n",
    "@variable(model, C[t=1:tmax]  >= 0.0) # squid catch. Nominally ~10% of S, which comes through from 0.1*... in q\n",
    "@variable(model, p_m[t=1:tmax] >= 0.0) # export/market price\n",
    "\n",
    "@variable(model, match)\n",
    "\n",
    "@NLconstraint(model, [t=1:tmax-1], S[t+1] == S[t]+(g*S[t]*(1-(S[t]/K))-C[t]));\n",
    "@NLconstraint(model, [t=1:tmax], p_m[t] == γₘ*(C[t])^(-β));\n",
    "@constraint(model, [t=1:tmax], p_f[t] == p_m[t]-κ);\n",
    "@NLconstraint(model, [t=1:tmax], C[t] == q*E[t]*S[t]);\n",
    "\n",
    "@NLconstraint(model, match == sum(abs(p_f[i] - PrAll[i])^2+abs(C[t] - VolAll[t])^2 for t in 1:tmax, i in 6:tmax));\n",
    "@objective(model, Min, match);"
   ]
  },
  {
   "cell_type": "code",
   "execution_count": 5,
   "metadata": {},
   "outputs": [
    {
     "name": "stdout",
     "output_type": "stream",
     "text": [
      "Total number of variables............................:      108\n",
      "                     variables with only lower bounds:       42\n",
      "                variables with lower and upper bounds:       44\n",
      "                     variables with only upper bounds:        0\n",
      "Total number of equality constraints.................:       84\n",
      "Total number of inequality constraints...............:        0\n",
      "        inequality constraints with only lower bounds:        0\n",
      "   inequality constraints with lower and upper bounds:        0\n",
      "        inequality constraints with only upper bounds:        0\n",
      "\n",
      "\n",
      "Number of Iterations....: 129\n",
      "\n",
      "                                   (scaled)                 (unscaled)\n",
      "Objective...............:   8.1077305181623062e+10    8.1077305181623062e+10\n",
      "Dual infeasibility......:   1.9073486328125000e-06    1.9073486328125000e-06\n",
      "Constraint violation....:   1.9724064884267687e-09    7.6293945312500000e-05\n",
      "Complementarity.........:   2.5204980169507782e-09    2.5204980169507782e-09\n",
      "Overall NLP error.......:   1.9724064884267687e-09    7.6293945312500000e-05\n",
      "\n",
      "\n",
      "Number of objective function evaluations             = 153\n",
      "Number of objective gradient evaluations             = 78\n",
      "Number of equality constraint evaluations            = 153\n",
      "Number of inequality constraint evaluations          = 0\n",
      "Number of equality constraint Jacobian evaluations   = 133\n",
      "Number of inequality constraint Jacobian evaluations = 0\n",
      "Number of Lagrangian Hessian evaluations             = 129\n",
      "Total CPU secs in IPOPT (w/o function evaluations)   =      1.049\n",
      "Total CPU secs in NLP function evaluations           =      0.405\n",
      "\n",
      "EXIT: Optimal Solution Found.\n"
     ]
    },
    {
     "data": {
      "text/plain": [
       ":Optimal"
      ]
     },
     "execution_count": 5,
     "metadata": {},
     "output_type": "execute_result"
    }
   ],
   "source": [
    "solve(model)"
   ]
  },
  {
   "cell_type": "code",
   "execution_count": null,
   "metadata": {},
   "outputs": [],
   "source": [
    "# For Plots\n",
    "ha = plot(years, PrAll, xlabel=\"Year\", ylabel=\"p_f\", label=\"Data\", legend=:topleft)\n",
    "plot!(years, getvalue(p_f), label=\"Model\")\n",
    "hb = plot(years, VolAll, xlabel=\"Year\", ylabel=\"C\", label=\"Data\")\n",
    "plot!(years, getvalue(C), label=\"Model\")\n",
    "hc = plot(years, getvalue(E), label = \"Effort\")\n",
    "hd = plot(years, getvalue(S), label = \"Est Stock\")\n",
    "plot(ha,hb,hc,hd,linewidth=3,layout=(4,1),size=(800,1400))"
   ]
  },
  {
   "cell_type": "markdown",
   "metadata": {},
   "source": [
    "So we can use this kind of premise I think:\n",
    "\n",
    "Whilst the BEM model is genrally used as a method for predicting catch & price by maximising effort, here we back track effort based on known catch and price data.\n",
    "\n",
    "With this method we can obtain optimal parameters for the BEM model, and improve upon its results...\n",
    "\n",
    "---\n",
    "\n",
    "The following are free effort optimisations of BLM and MLM"
   ]
  },
  {
   "cell_type": "code",
   "execution_count": null,
   "metadata": {},
   "outputs": [],
   "source": [
    "# Model with free effort (BLM)\n",
    "modeln = JuMP.Model(solver = IpoptSolver(print_level=3,max_iter=50000,print_frequency_iter=200,sb=\"yes\"));\n",
    "\n",
    "#@variable(modeln, 0.0 <= βn <= 1.0) # slope of demand-price function\n",
    "#@variable(modeln, 20_000.0 <= γₘn <= 51_000.0) # maximum demand, t\n",
    "@variable(modeln, 0.0 <= gn <= 3.2) # population growth rate\n",
    "@variable(modeln, 1000.0 <= κn <= 2148.0) # cost of processing, MXNia/t\n",
    "\n",
    "@variable(modeln, 0.0 <= En[t=1:tmax] <= 1.0) # fishing effort\n",
    "@variable(modeln, p_fn[t=1:tmax]) # price for fishers\n",
    "@variable(modeln, K-(K*0.30) <= Sn[t=1:tmax] <= K+(K*0.30)) # size of the squid population, ±30% of K\n",
    "@variable(modeln, Cn[t=1:tmax] >= 0.0) # squid catch. Nominally ~10% of S, which comes through from 0.1*... in q\n",
    "@variable(modeln, p_mn[t=1:tmax] >= 0.0) # export/market price\n",
    "\n",
    "@variable(modeln, matchn)\n",
    "\n",
    "@NLconstraint(modeln, [t=1:tmax-1], Sn[t+1] == Sn[t]+(gn*Sn[t]*(1-(Sn[t]/K))-Cn[t]));\n",
    "@NLconstraint(modeln, [t=1:tmax], p_mn[t] == γₘ*(Cn[t])^(-β));\n",
    "@constraint(modeln, [t=1:tmax], p_fn[t] == p_mn[t]-κn);\n",
    "@NLconstraint(modeln, [t=1:tmax], Cn[t] == qML[t]*En[t]*Sn[t]);\n",
    "\n",
    "@NLconstraint(model, match == sum(abs(p_f[i] - PrAll[i])^2+abs(C[t] - VolAll[t])^2 for t in 1:tmax, i in 6:tmax));\n",
    "@objective(modeln, Min, matchn);"
   ]
  },
  {
   "cell_type": "code",
   "execution_count": null,
   "metadata": {},
   "outputs": [],
   "source": [
    "solve(modeln)"
   ]
  },
  {
   "cell_type": "code",
   "execution_count": null,
   "metadata": {},
   "outputs": [],
   "source": [
    "ha = plot(years, PrAll, xlabel=\"Year\", ylabel=\"p_f\", label=\"Data\", legend=:topleft)\n",
    "plot!(years, getvalue(p_fn), label=\"Model\")\n",
    "hb = plot(years, VolAll, xlabel=\"Year\", ylabel=\"C\", label=\"Data\")\n",
    "plot!(years, getvalue(Cn), label=\"Model\")\n",
    "hc = plot(years, getvalue(En), label = \"Effort\")\n",
    "hd = plot(years, getvalue(Sn), label = \"Est Stock\")\n",
    "plot(ha,hb,hc,hd,linewidth=3,layout=(4,1),size=(800,1400))"
   ]
  },
  {
   "cell_type": "code",
   "execution_count": null,
   "metadata": {},
   "outputs": [],
   "source": [
    "# Model with free effort (MLM)\n",
    "modele = JuMP.Model(solver = IpoptSolver(print_level=3,max_iter=10000,print_frequency_iter=200,sb=\"yes\"));\n",
    "\n",
    "#@variable(modele, 0.0 <= βe <= 1.0) # slope of demand-price function\n",
    "#@variable(modele, 20_000.0 <= γₘe <= 51_000.0) # maximum demand, t\n",
    "@variable(modele, 0.0 <= ge <= 3.2) # population growth rate\n",
    "@variable(modele, 1000.0 <= κe <= 2148.0) # cost of processing, MXNia/t\n",
    "\n",
    "@variable(modele, 0.0 <= Ee[t=1:tmax] <= 1.0)\n",
    "@variable(modele, p_fe[t=1:tmax]) # price for fishers\n",
    "@variable(modele, K-(K*0.30) <= Se[t=1:tmax] <= K+(K*0.30)) # size of the squid population, ±30% of K\n",
    "@variable(modele, Ce[t=1:tmax]  >= 0.0) # squid catch. Nominally ~10% of S, which comes through from 0.1*... in q\n",
    "@variable(modele, p_me[t=1:tmax] >= 0.0) # export/market price\n",
    "@variable(modele, R_tt[t=1:tmax] >= 0)\n",
    "@variable(modele, p_min[t=1:tmax] >= 0)\n",
    "@variable(modele, matche)\n",
    "\n",
    "@NLconstraint(modele, [t=1:tmax-1], Se[t+1] == Se[t]+(ge*Se[t]*(1-(Se[t]/K))-Ce[t]));\n",
    "@NLconstraint(modele, [t=1:tmax], p_me[t] == γₘ*(Ce[t])^(-β));\n",
    "@NLconstraint(modele, [t=1:tmax], p_min[t] == (c_t*Ee[t])/Ce[t]);\n",
    "@constraint(modele, [t=1:tmax], p_fe[t] == (p_me[t]-κe)*(1-R_tt[t]) + R_tt[t]*p_min[t]);\n",
    "@NLconstraint(modele, [t=1:tmax], R_tt[t] == exp(-y_S[t]))\n",
    "@NLconstraint(modele, [t=1:tmax], Ce[t] == qML[t]*Ee[t]*Se[t]);\n",
    "\n",
    "@NLconstraint(model, match == sum(abs(p_f[i] - PrAll[i])^2+abs(C[t] - VolAll[t])^2 for t in 1:tmax, i in 6:tmax));\n",
    "@objective(modele, Min, matche);"
   ]
  },
  {
   "cell_type": "code",
   "execution_count": null,
   "metadata": {},
   "outputs": [],
   "source": [
    "solve(modele)"
   ]
  },
  {
   "cell_type": "code",
   "execution_count": null,
   "metadata": {},
   "outputs": [],
   "source": [
    "ha = plot(years, PrAll, xlabel=\"Year\", ylabel=\"p_f\", label=\"Data\", legend=:topleft)\n",
    "plot!(years, getvalue(p_fe), label=\"Model\")\n",
    "hb = plot(years, VolAll, xlabel=\"Year\", ylabel=\"C\", label=\"Data\")\n",
    "plot!(years, getvalue(Ce), label=\"Model\")\n",
    "hc = plot(years, Ee, label = \"Effort\")\n",
    "hd = plot(years, getvalue(Se), label = \"Est Stock\")\n",
    "plot(ha,hb,hc,hd,linewidth=3,layout=(4,1),size=(800,1400))"
   ]
  },
  {
   "cell_type": "markdown",
   "metadata": {},
   "source": [
    "As you can see, these are not so good.\n",
    "\n",
    "---\n",
    "\n",
    "Let's take the parameters from the BEM run and see how we can extend that."
   ]
  },
  {
   "cell_type": "code",
   "execution_count": 6,
   "metadata": {},
   "outputs": [
    {
     "name": "stdout",
     "output_type": "stream",
     "text": [
      "β: 0.0736, γ: 49200.0, g: 0.593449526361038\n",
      "κ: 2148.0, E₀: 0.685393589261539, S₀: 1.571401e6\n"
     ]
    }
   ],
   "source": [
    "struct OptimalConstants\n",
    "    β::Float64\n",
    "    γ::Float64\n",
    "    g::Float64\n",
    "    κ::Float64\n",
    "    E₀::Float64\n",
    "    S₀::Float64\n",
    "end\n",
    "\n",
    "# Using initial optimal\n",
    "r = OptimalConstants(β, γₘ, getvalue(g), getvalue(κ), getvalue(E)[1], getvalue(S)[1]);\n",
    "\n",
    "# Discrete initially\n",
    "Ed = Array{Float64}(length(years));\n",
    "Ed[1] = r.E₀;\n",
    "Sd = Array{Float64}(length(years));\n",
    "Sd[1] = r.S₀;\n",
    "Cd = Array{Float64}(length(years));\n",
    "Cd[1] = q*r.E₀*r.S₀;\n",
    "p_md = Array{Float64}(length(years));\n",
    "p_md[1] = r.γ*Cd[1]^(-r.β);\n",
    "p_fd = Array{Float64}(length(years));\n",
    "p_fd[1] = p_md[1]-r.κ;\n",
    "\n",
    "for t = 1:length(years)-1\n",
    "    Sd[t+1] = Sd[t]+(r.g*Sd[t]*(1-(Sd[t]/K))-Cd[t]);\n",
    "    # This equation for effort does not represent our current effort values in the least.\n",
    "    Ed[t+1] = Ed[t]+(p_fd[t]*Cd[t]-σ*Ed[t]);\n",
    "    #Pull in the optimal value for Cd instead\n",
    "    Cd[t+1] = q*getvalue(E)[t+1]*Sd[t+1];\n",
    "    p_md[t+1] = r.γ*Cd[t+1]^(-r.β);\n",
    "    p_fd[t+1] = p_md[t+1]-r.κ;\n",
    "end\n",
    "\n",
    "println(\"β: \", r.β, \", γ: \", r.γ, \", g: \", r.g);\n",
    "println(\"κ: \", r.κ, \", E₀: \", r.E₀, \", S₀: \", r.S₀);"
   ]
  },
  {
   "cell_type": "markdown",
   "metadata": {},
   "source": [
    "Now, if we use these **optimal BEM parameters**, can we improve the fit by using BLM?"
   ]
  },
  {
   "cell_type": "code",
   "execution_count": 7,
   "metadata": {},
   "outputs": [],
   "source": [
    "Sl = Array{Float64}(length(years));\n",
    "Sl[1] = r.S₀;\n",
    "Cl = Array{Float64}(length(years));\n",
    "Cl[1] = qML[1]*r.E₀*r.S₀;\n",
    "p_ml = Array{Float64}(length(years));\n",
    "p_ml[1] = r.γ*Cl[1]^(-r.β);\n",
    "p_fl = Array{Float64}(length(years));\n",
    "p_fl[1] = p_ml[1]-r.κ;\n",
    "\n",
    "for t = 1:length(years)-1\n",
    "    Sl[t+1] = Sl[t]+(r.g*Sl[t]*(1-(Sl[t]/K))-Cl[t]);\n",
    "    Cl[t+1] = qML[t+1]*getvalue(E)[t+1]*Sl[t+1];\n",
    "    p_ml[t+1] = r.γ*Cl[t+1]^(-r.β);\n",
    "    p_fl[t+1] = p_ml[t+1]-r.κ;\n",
    "end"
   ]
  },
  {
   "cell_type": "code",
   "execution_count": 8,
   "metadata": {},
   "outputs": [
    {
     "ename": "LoadError",
     "evalue": "\u001b[91mMethodError: no method matching PGFPlots.Plots.Linear(::Array{Float64,2}; xlabel=\"Year\", ylabel=\"p_f\", label=\"Data\", legend=:topleft)\u001b[0m\nClosest candidates are:\n  PGFPlots.Plots.Linear(::AbstractArray{T<:Real,2}; mark, markSize, style, legendentry, onlyMarks, errorBars) where T<:Real at /home/tim/.julia/v0.6/PGFPlots/src/plots.jl:23\u001b[91m got unsupported keyword arguments \"xlabel\", \"ylabel\", \"label\", \"legend\"\u001b[39m\n  PGFPlots.Plots.Linear(\u001b[91m::AbstractArray{A<:Real,1}\u001b[39m; kwargs...) where A<:Real at /home/tim/.julia/v0.6/PGFPlots/src/plots.jl:26\n  PGFPlots.Plots.Linear(\u001b[91m::AbstractArray{A<:Real,1}\u001b[39m, \u001b[91m::AbstractArray{B<:Real,1}\u001b[39m; kwargs...) where {A<:Real, B<:Real} at /home/tim/.julia/v0.6/PGFPlots/src/plots.jl:25\n  ...\u001b[39m",
     "output_type": "error",
     "traceback": [
      "\u001b[91mMethodError: no method matching PGFPlots.Plots.Linear(::Array{Float64,2}; xlabel=\"Year\", ylabel=\"p_f\", label=\"Data\", legend=:topleft)\u001b[0m\nClosest candidates are:\n  PGFPlots.Plots.Linear(::AbstractArray{T<:Real,2}; mark, markSize, style, legendentry, onlyMarks, errorBars) where T<:Real at /home/tim/.julia/v0.6/PGFPlots/src/plots.jl:23\u001b[91m got unsupported keyword arguments \"xlabel\", \"ylabel\", \"label\", \"legend\"\u001b[39m\n  PGFPlots.Plots.Linear(\u001b[91m::AbstractArray{A<:Real,1}\u001b[39m; kwargs...) where A<:Real at /home/tim/.julia/v0.6/PGFPlots/src/plots.jl:26\n  PGFPlots.Plots.Linear(\u001b[91m::AbstractArray{A<:Real,1}\u001b[39m, \u001b[91m::AbstractArray{B<:Real,1}\u001b[39m; kwargs...) where {A<:Real, B<:Real} at /home/tim/.julia/v0.6/PGFPlots/src/plots.jl:25\n  ...\u001b[39m",
      "",
      "Stacktrace:",
      " [1] \u001b[1m(::Core.#kw#Type)\u001b[22m\u001b[22m\u001b[1m(\u001b[22m\u001b[22m::Array{Any,1}, ::Type{PGFPlots.Plots.Linear}, ::Array{Float64,2}\u001b[1m)\u001b[22m\u001b[22m at \u001b[1m./<missing>:0\u001b[22m\u001b[22m",
      " [2] \u001b[1m#Linear#9\u001b[22m\u001b[22m\u001b[1m(\u001b[22m\u001b[22m::Array{Any,1}, ::Type{T} where T, ::Array{Int64,1}, ::Array{Float64,1}\u001b[1m)\u001b[22m\u001b[22m at \u001b[1m/home/tim/.julia/v0.6/PGFPlots/src/plots.jl:25\u001b[22m\u001b[22m",
      " [3] \u001b[1m(::Core.#kw#Type)\u001b[22m\u001b[22m\u001b[1m(\u001b[22m\u001b[22m::Array{Any,1}, ::Type{PGFPlots.Plots.Linear}, ::Array{Int64,1}, ::Array{Float64,1}\u001b[1m)\u001b[22m\u001b[22m at \u001b[1m./<missing>:0\u001b[22m\u001b[22m",
      " [4] \u001b[1m#plot#39\u001b[22m\u001b[22m\u001b[1m(\u001b[22m\u001b[22m::Array{Any,1}, ::Function, ::Array{Int64,1}, ::Array{Float64,1}\u001b[1m)\u001b[22m\u001b[22m at \u001b[1m/home/tim/.julia/v0.6/PGFPlots/src/PGFPlots.jl:683\u001b[22m\u001b[22m",
      " [5] \u001b[1m(::PGFPlots.#kw##plot)\u001b[22m\u001b[22m\u001b[1m(\u001b[22m\u001b[22m::Array{Any,1}, ::PGFPlots.#plot, ::Array{Int64,1}, ::Array{Float64,1}\u001b[1m)\u001b[22m\u001b[22m at \u001b[1m./<missing>:0\u001b[22m\u001b[22m",
      " [6] \u001b[1minclude_string\u001b[22m\u001b[22m\u001b[1m(\u001b[22m\u001b[22m::String, ::String\u001b[1m)\u001b[22m\u001b[22m at \u001b[1m./loading.jl:522\u001b[22m\u001b[22m"
     ]
    }
   ],
   "source": [
    "ha = plot(years, PrAll, xlabel=\"Year\", ylabel=\"p_f\", label=\"Data\", legend=:topleft)\n",
    "plot!(years, p_fl, label=\"Model\")\n",
    "hb = plot(years, VolAll, xlabel=\"Year\", ylabel=\"C\", label=\"Data\")\n",
    "plot!(years, Cl, label=\"Model\")\n",
    "hc = plot(years, Sl, label = \"Est Stock\")\n",
    "plot(ha,hb,hd,linewidth=3,layout=(3,1),size=(800,1000))"
   ]
  },
  {
   "cell_type": "markdown",
   "metadata": {},
   "source": [
    "So this worsens the fit if we keep the BEM effort data. I attempted to just generate effort in proportion to C and S, but this then gives you three unkowns and makes sense for the system to just generate a constant E that fits.\n",
    "\n",
    "___ \n",
    "\n",
    "For completeness, here's the MLM:"
   ]
  },
  {
   "cell_type": "code",
   "execution_count": 9,
   "metadata": {},
   "outputs": [],
   "source": [
    "Sm = Array{Float64}(length(years));\n",
    "Sm[1] = r.S₀;\n",
    "Cm = Array{Float64}(length(years));\n",
    "Cm[1] = qML[1]*r.E₀*r.S₀;\n",
    "p_mm = Array{Float64}(length(years));\n",
    "p_mm[1] = r.γ*Cm[1]^(-r.β);\n",
    "p_fm = Array{Float64}(length(years));\n",
    "p_fm[1] = p_mm[1]-r.κ;\n",
    "p_min = Array{Float64}(length(years));\n",
    "p_min[1] = (c_t*r.E₀)/Cm[1];\n",
    "\n",
    "R_tt = exp.(-y_S);\n",
    "\n",
    "for t = 1:length(years)-1\n",
    "    Sm[t+1] = Sm[t]+(r.g*Sm[t]*(1-(Sm[t]/K))-Cm[t]);\n",
    "    Cm[t+1] = qML[t+1]*getvalue(E)[t+1]*Sm[t+1];\n",
    "    p_mm[t+1] = r.γ*Cm[t+1]^(-r.β);\n",
    "    p_min[t] = (c_t*getvalue(E)[t])/Cm[t];\n",
    "    p_fm[t+1] = (p_mm[t+1]-r.κ)*(1-R_tt[t]) + R_tt[t]*p_min[t];\n",
    "end\n"
   ]
  },
  {
   "cell_type": "code",
   "execution_count": null,
   "metadata": {},
   "outputs": [],
   "source": [
    "ha = plot(years, PrAll, xlabel=\"Year\", ylabel=\"p_f\", label=\"Data\", legend=:topleft)\n",
    "plot!(years, p_fm, label=\"Model\")\n",
    "hb = plot(years, VolAll, xlabel=\"Year\", ylabel=\"C\", label=\"Data\")\n",
    "plot!(years, Cm, label=\"Model\")\n",
    "hc = plot(years, Sm, label = \"Est Stock\")\n",
    "plot(ha,hb,hd,linewidth=3,layout=(3,1),size=(800,1000))"
   ]
  },
  {
   "cell_type": "markdown",
   "metadata": {},
   "source": [
    "In terms of this analysis, it seems that BLM still captures the data the best. What happens if you use these parameters in your version of the model?"
   ]
  },
  {
   "cell_type": "code",
   "execution_count": 61,
   "metadata": {},
   "outputs": [],
   "source": [
    "# For PgFPlots\n",
    "define_color(\"one\", [0.894,0.102,0.11])\n",
    "define_color(\"two\", [0.216,0.494,0.722])\n",
    "define_color(\"three\", [0.302,0.686,0.29])\n",
    "define_color(\"four\", [0.596,0.306,0.639])\n",
    "g = GroupPlot(1, 2, groupStyle = \"vertical sep = 0.25cm\")\n",
    "push!(g, Axis([Plots.Linear(years, PrAll, legendentry=\"Data\", style=\"line width=3, one, no marks\"),\n",
    "            Plots.Linear(years, getvalue(p_f), legendentry=\"BEM\", style=\"line width=1.5, two, no marks\"),\n",
    "            Plots.Linear(years, p_fl, legendentry=\"BLM\", style=\"line width=1.5, three, dotted, no marks\"),\n",
    "            Plots.Linear(years, p_fm, legendentry=\"MLM\", style=\"line width=1.5, four, dashed, no marks\")\n",
    "            ], ylabel=L\"$p_f$\", style=\"legend columns=4, legend style={at={(0.5,1.04)},anchor=south}, xticklabels={}, yticklabel style={/pgf/number format/fixed}, scaled y ticks=false\"))\n",
    "push!(g, Axis([Plots.Linear(years, VolAll, style=\"line width=3, one, no marks\"),\n",
    "            Plots.Linear(years, getvalue(C), style=\"line width=1.5, two, no marks\"),\n",
    "            Plots.Linear(years, Cl, style=\"line width=1.5, three, dotted, no marks\"),\n",
    "            Plots.Linear(years, Cm, style=\"line width=1.5, four, dashed, no marks\")\n",
    "            ], xlabel=\"Year\", ylabel=L\"$C$\", style=\"xticklabel style={/pgf/number format/1000 sep={}}, yticklabel style={/pgf/number format/fixed}, scaled y ticks=false\"))\n",
    "save(\"model_compare.tex\", g)"
   ]
  },
  {
   "cell_type": "markdown",
   "metadata": {},
   "source": [
    "\n",
    "---\n",
    "\n",
    "Below here has not been updated just yet..."
   ]
  },
  {
   "cell_type": "code",
   "execution_count": null,
   "metadata": {},
   "outputs": [],
   "source": [
    "using DifferentialEquations\n",
    "# To work with optimal E\n",
    "using Interpolations"
   ]
  },
  {
   "cell_type": "code",
   "execution_count": null,
   "metadata": {},
   "outputs": [],
   "source": [
    "# Using initial optimal, trying to use E and failing\n",
    "#p = [0.190159,  51000.0,  1.15065,  2148.0,  2.07596e5,  2.19704e8,  3.0498];\n",
    "p = [β, γₘ, getvalue(g), getvalue(κ), K, σ, q];\n",
    "\n",
    "function bem(out,du,u,p,t)\n",
    "  out[1] = p[3]*u[1]*(1-(u[1]/p[5])) - u[3] - du[1] # S\n",
    "  out[2] = u[5]*u[3]-p[6]*u[2] - du[2] # E\n",
    "  out[3] = p[7]*u[2]*u[1] - u[3] # C\n",
    "  out[4] = p[2]*u[3]^(-p[1]) - u[4] # p_m\n",
    "  out[5] = u[4]-p[4] - u[5] # p_f  \n",
    "end\n",
    "S₀ = getvalue(S)[1];\n",
    "#S₀ = 53773.30961941843;\n",
    "E₀ = getvalue(E)[1];\n",
    "#E₀ = 0.26381011097545004;\n",
    "\n",
    "C₀ = p[7]*E₀*S₀;\n",
    "p_m₀ = p[2]*C₀^(-p[1]);\n",
    "\n",
    "u₀ = [S₀, E₀, C₀, p_m₀, p_m₀-p[4]];\n",
    "du₀ = similar(u₀);\n",
    "#tspan = (years[1],years[end]);\n",
    "tspan = (2005.0,2016.0);\n",
    "differential_vars = [true,true,false,false,false];\n",
    "\n",
    "prob = DAEProblem(bem,du₀,u₀,tspan,p,differential_vars=differential_vars)\n",
    "\n",
    "#sol = solve(prob,IDA())"
   ]
  },
  {
   "cell_type": "code",
   "execution_count": null,
   "metadata": {},
   "outputs": [],
   "source": [
    "# Using initial optimal, using interpolated optimal E\n",
    "#p = [0.190159,  51000.0,  1.15065,  2148.0,  2.07596e5,  2.19704e8,  3.0498];\n",
    "p = [β, γₘ, getvalue(g), getvalue(κ), K, σ, q];\n",
    "\n",
    "Econt = interpolate((years,), getvalue(E), Gridded(Linear()));\n",
    "\n",
    "function bem(out,du,u,p,t)\n",
    "  out[1] = p[3]*u[1]*(1-(u[1]/p[5])) - u[2] - du[1] # S\n",
    "  #out[2] = u[5]*u[3]-p[6]*u[2] - du[2] # E\n",
    "  out[2] = p[7]*Econt(t)*u[1] - u[2] # C\n",
    "  out[3] = p[2]*u[2]^(-p[1]) - u[3] # p_m\n",
    "  out[4] = u[3]-p[4] - u[4] # p_f  \n",
    "end\n",
    "S₀ = getvalue(S)[1];\n",
    "#S₀ = 53773.30961941843;\n",
    "#E₀ = getvalue(E)[1];\n",
    "#E₀ = 0.26381011097545004;\n",
    "\n",
    "C₀ = p[7]*Econt(years[1])*S₀;\n",
    "p_m₀ = p[2]*C₀^(-p[1]);\n",
    "\n",
    "u₀ = [S₀, C₀, p_m₀, p_m₀-p[4]];\n",
    "du₀ = similar(u₀);\n",
    "#tspan = (years[1],years[end]);\n",
    "tspan = (2005.0,2016.0);\n",
    "differential_vars = [true,false,false,false];\n",
    "\n",
    "prob = DAEProblem(bem,du₀,u₀,tspan,p,differential_vars=differential_vars)\n",
    "\n",
    "#sol = solve(prob,IDA())"
   ]
  },
  {
   "cell_type": "code",
   "execution_count": null,
   "metadata": {},
   "outputs": [],
   "source": [
    "sol = DifferentialEquations.solve(prob,IDA())"
   ]
  },
  {
   "cell_type": "code",
   "execution_count": null,
   "metadata": {},
   "outputs": [],
   "source": [
    "plot(sol, layout=(2,2), size=(800,600), label = [\"S\" \"C\" \"p_m\" \"p_f\"])"
   ]
  },
  {
   "cell_type": "code",
   "execution_count": null,
   "metadata": {},
   "outputs": [],
   "source": []
  }
 ],
 "metadata": {
  "kernelspec": {
   "display_name": "Julia 0.6.4",
   "language": "julia",
   "name": "julia-0.6"
  },
  "language_info": {
   "file_extension": ".jl",
   "mimetype": "application/julia",
   "name": "julia",
   "version": "0.6.4"
  }
 },
 "nbformat": 4,
 "nbformat_minor": 2
}
