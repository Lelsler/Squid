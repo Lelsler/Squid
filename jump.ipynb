{
 "cells": [
  {
   "cell_type": "code",
   "execution_count": null,
   "metadata": {},
   "outputs": [],
   "source": [
    "using JuMP\n",
    "using Ipopt\n",
    "using DataFrames\n",
    "import XLSX"
   ]
  },
  {
   "cell_type": "code",
   "execution_count": null,
   "metadata": {},
   "outputs": [],
   "source": [
    "#These two are interdependent in the model and can be included in the future\n",
    "a1 = 1/3.4e7 # proportion of migrating squid, where 3.4E7 max(e^(tau-b1))\n",
    "K = 1208770.0 # carrying capacity in t\n",
    "# These are the only real constants\n",
    "f = 40.0 # l of fuel per trip\n",
    "B_h = 7.203 # hours per fisher\n",
    "B_f = 2.0 # fisher per panga\n",
    "m = 5492603.58 # cost per unit of transport all boats, MXN/trip\n",
    "c_t = m*f # fleet cost of transport\n",
    "\n",
    "### Initial values #############################################################\n",
    "tau0 = 42.0 # temperature\n",
    "q0 = 0.01 # squid catchability\n",
    "y_S0 = 0.5 # proportion of migrated squid\n",
    "R_tt0 = 0.5 # trader cooperation\n",
    "S0 = 1208770.0 # size of the squid population\n",
    "E0 = 1.0 # fishing effort\n",
    "C0 = 120877.0 # squid catch\n",
    "p_e0 = 164706.0 # max p_e comtrade\n",
    "p_f0 = 15438.0 # max p_f datamares\n",
    "R0 = C0*p_f0-(c_t+E0);"
   ]
  },
  {
   "cell_type": "code",
   "execution_count": null,
   "metadata": {},
   "outputs": [],
   "source": [
    "#df2 looks at 2001-2016, so df1 should only yield that set too\n",
    "df1 = DataFrame(XLSX.readtable(\"./DATA/R3_data.xlsx\", \"Sheet1\")...)\n",
    "# load columns\n",
    "y = Int64.(df1[:year][11:26]) #\n",
    "#pe = Float64.(map(x->ismissing(x) ? NaN : x, df1[:pe_MXNiat][11:26])) #\n",
    "pf = Float64.(df1[:pf_MXNiat][11:26]) #\n",
    "#ct = Float64.(map(x->ismissing(x) ? NaN : x, df1[:C_t][11:26])) #\n",
    "#ssh = Float64.(map(x->ismissing(x) ? NaN : x, df1[:essh_avg][11:26])) #\n",
    "ml = Float64.(df1[:ML][11:26]) #\n",
    "ys = map(x->parse(Float64,x),df1[:y_S][11:26]) #\n",
    "\n",
    "\n",
    "df2 = dropmissing(DataFrame(XLSX.readtable(\"./DATA/PriceVolDataCorrected.xlsx\", \"Sheet1\")...))\n",
    "VolAll = Float64.(df2[:tons_DM]) ## CATCH DATA\n",
    "PrAll = Float64.(df2[:priceMXNia_DM]) ## PRICE DATA \n",
    "\n",
    "### New max time\n",
    "tmax = length(df2[:Year]);"
   ]
  },
  {
   "cell_type": "code",
   "execution_count": null,
   "metadata": {},
   "outputs": [],
   "source": [
    "model = JuMP.Model(solver = IpoptSolver(print_level=3, max_iter=99900,print_frequency_iter=50,sb=\"yes\"));"
   ]
  },
  {
   "cell_type": "markdown",
   "metadata": {},
   "source": [
    "- ~~We can probably add in migration costs rather than fixed costs (`c_t`).~~\n",
    "- `a1` seems to be conditional on `max(tau)`...\n",
    "- ~~`cachability` is too hardcoded for my liking~~\n",
    "- ~~Why is `y_S` confined on [0,1]?~~\n",
    "- `p_f[1]` is *not* defined as `PrAll[1]` (as with `C[1]`). Why not?"
   ]
  },
  {
   "cell_type": "code",
   "execution_count": null,
   "metadata": {},
   "outputs": [],
   "source": [
    "@variable(model, 38.750 <= b1 <= 42.1, start = 41.750) # isotherm depth (est)\n",
    "@variable(model, -6.9 <= b2 <= -3.987, start = -5.696) # isotherm depth (est)\n",
    "@variable(model, 11.478 <= b3 <= 16.4, start = 16.397) # isotherm depth (est)\n",
    "@variable(model, 0.0 <= beta <= 1.0, start = 0.0736) # slope of demand-price function\n",
    "@variable(model, 1000.0 <= c_p <= 2148.0, start = 1776.25) # cost of processing, MXNia/t\n",
    "@variable(model, 0.0 <= g <= 3.2, start = 1.4) # population growth rate\n",
    "@variable(model, 20000.0 <= gamma <= 51000.0, start = 49200.0) # maximum demand, t\n",
    "@variable(model, 11956952.0 <= w_m <= 28108539.0, start = 13355164.0) # min wage per hour all fleet\n",
    "@variable(model, h1, start = 2e-10) # E scale\n",
    "@variable(model, h2, start = 0.6596) # E scale\n",
    "@variable(model, l1, start = -0.0028) # q scale\n",
    "@variable(model, l2, start = 0.1667) # q scale\n",
    "\n",
    "@variable(model, 20.0 <= tau[t=1:tmax] <= 80.0) # temperature\n",
    "@variable(model, 4000.0 <= p_e[t=1:tmax] <= 100_000.0) # export price\n",
    "@variable(model, q[t=1:tmax]) # catchability squid population\n",
    "@variable(model, 0.0 <= y_S[t=1:tmax] <= 1.0) # Proportion of squid migration from initial fishing grounds\n",
    "@variable(model, R_tt[t=1:tmax]) # trader cooperation\n",
    "@variable(model, p_min[t=1:tmax] >= 0.0) # minimum wage 28_000_000\n",
    "# c_t is per trip so we need to upscale E hr > fisher > trip\n",
    "@variable(model, Escal[t=1:tmax]) # fishing effort\n",
    "@variable(model, 0.0 <= E[t=1:tmax] <= 1.0) # fishing effort\n",
    "@variable(model, S[t=1:tmax] >= 0.0) # size of the squid population 18000 , 1200000\n",
    "@variable(model, C[t=1:tmax]  >= 0.0) # squid catch 10% of S\n",
    "@variable(model, p_f[t=1:tmax]) # price for fishers\n",
    "\n",
    "@variable(model, data[t=1:tmax])\n",
    "@variable(model, match)\n",
    "\n",
    "@constraint(model, [t=1:tmax], tau[t] == b1+b2*cos.(t)+b3*sin.(t));\n",
    "@NLconstraint(model, [t=1:tmax], p_e[t] == gamma*(C[t])^(-beta));\n",
    "@NLconstraint(model, [t=1:tmax-1], Escal[t+1] == E[t]+p_f[t]*q[t]*E[t]*S[t]-c_t*(E[t]/(B_h+B_f)));\n",
    "@constraint(model, [t=1:tmax], E[t] == h1*Escal[t]+h2);\n",
    "@constraint(model, [t=1:tmax], R_tt[t] == 1-y_S[t]);\n",
    "@NLconstraint(model, [t=1:tmax-1], S[t+1] == S[t]+g*S[t]*(1-(S[t]/K))-q[t]*E[t]*S[t]);\n",
    "@NLconstraint(model, [t=1:tmax], C[t] == q[t]*E[t]*S[t]);\n",
    "@NLconstraint(model, [t=1:tmax], p_min[t] == (E[t]*w_m)/C[t]);\n",
    "@constraint(model, [t=1:tmax], p_f[t] == (p_e[t]-c_p)*(1-R_tt[t])+R_tt[t]*p_min[t]);\n",
    "@NLconstraint(model, [t=1:tmax], y_S[t] == a1*exp(tau[t]-b1));\n",
    "@constraint(model, [t=1:tmax], q[t] == l1*tau[t]+l2);\n",
    "#@constraint(model, [t=1:tmax-1], R[t+1] == C[t+1]*p_f[t+1]-c_t*(E[t]/(B_h+B_f)));\n",
    "\n",
    "# Input data\n",
    "@constraint(model, data[t=1:tmax] .== PrAll[t]);\n",
    "\n",
    "# Initial conditions\n",
    "@constraint(model, tau[1] == tau0);  # temperature\n",
    "@constraint(model, p_f[1] == p_f0); # max p_f datamares\n",
    "@constraint(model, p_e[1] == p_e0); # max p_e comtrade\n",
    "@constraint(model, y_S[1] == y_S0); # proportion of migrated squid\n",
    "@constraint(model, R_tt[1] == R_tt0); # trader cooperation\n",
    "@constraint(model, C[1] == C0); # squid catch\n",
    "@constraint(model, q[1] == q0); # squid catchability\n",
    "@constraint(model, E[1] == E0); # fishing effort\n",
    "@constraint(model, S[1] == S0); # size of the squid population\n",
    "\n",
    "#Minimise ther differences between our model and the data\n",
    "#NOTE: Fig1 only currently, fig 2 matches volume `C`\n",
    "@NLconstraint(model, match == sum(abs(p_f[t] - data[t]) for t in 1:tmax));\n",
    "@NLobjective(model, Min, match);"
   ]
  },
  {
   "cell_type": "code",
   "execution_count": null,
   "metadata": {},
   "outputs": [],
   "source": [
    "solve(model)"
   ]
  },
  {
   "cell_type": "markdown",
   "metadata": {},
   "source": [
    "**TODO:** `ML` and `R` have been removed from the model but ultimately are required outputs.\n",
    "They should be post-processed vectors."
   ]
  },
  {
   "cell_type": "code",
   "execution_count": null,
   "metadata": {},
   "outputs": [],
   "source": [
    "using Plots"
   ]
  },
  {
   "cell_type": "code",
   "execution_count": null,
   "metadata": {},
   "outputs": [],
   "source": [
    "plot(y, pf)"
   ]
  },
  {
   "cell_type": "code",
   "execution_count": 3,
   "metadata": {},
   "outputs": [],
   "source": [
    "using LsqFit\n",
    "using Plots"
   ]
  },
  {
   "cell_type": "code",
   "execution_count": 4,
   "metadata": {},
   "outputs": [
    {
     "data": {
      "text/plain": [
       "modpf (generic function with 1 method)"
      ]
     },
     "execution_count": 4,
     "metadata": {},
     "output_type": "execute_result"
    }
   ],
   "source": [
    "modpf(t,p) = p[1]*t.^(-p[2])-p[3]"
   ]
  },
  {
   "cell_type": "code",
   "execution_count": 5,
   "metadata": {},
   "outputs": [
    {
     "data": {
      "text/plain": [
       "3-element Array{Float64,1}:\n",
       " 30000.0\n",
       "     0.1\n",
       "  1500.0"
      ]
     },
     "execution_count": 5,
     "metadata": {},
     "output_type": "execute_result"
    }
   ],
   "source": [
    "xdata = 1:16\n",
    "p0 = [30000.0, 0.1, 1500.0]"
   ]
  },
  {
   "cell_type": "code",
   "execution_count": 11,
   "metadata": {},
   "outputs": [
    {
     "data": {
      "text/plain": [
       "LsqFit.LsqFitResult{Float64,1}(13, [81126.8, 0.0505775, 43050.7], [794.067, -639.241, 420.463, 60.2963, 1029.53, 1190.16, 628.803, 598.799, 1541.71, -419.208, -673.878, 511.736, -2300.15, -3751.61, 2685.36, -1656.49], [0.577242 -5.08777e5 -1.0; 0.562989 -5.18793e5 -1.0; … ; 0.688845 -4.11845e5 -1.0; 0.700535 -399925.0 -1.0], false, Float64[])"
      ]
     },
     "execution_count": 11,
     "metadata": {},
     "output_type": "execute_result"
    }
   ],
   "source": [
    "fit = curve_fit(modpf, VolAll, PrAll, p0)"
   ]
  },
  {
   "cell_type": "code",
   "execution_count": 13,
   "metadata": {},
   "outputs": [
    {
     "data": {
      "image/svg+xml": [
       "<?xml version=\"1.0\" encoding=\"utf-8\"?>\n",
       "<svg xmlns=\"http://www.w3.org/2000/svg\" xmlns:xlink=\"http://www.w3.org/1999/xlink\" width=\"600\" height=\"400\" viewBox=\"0 0 600 400\">\n",
       "<defs>\n",
       "  <clipPath id=\"clip4900\">\n",
       "    <rect x=\"0\" y=\"0\" width=\"600\" height=\"400\"/>\n",
       "  </clipPath>\n",
       "</defs>\n",
       "<polygon clip-path=\"url(#clip4900)\" points=\"\n",
       "0,400 600,400 600,0 0,0 \n",
       "  \" fill=\"#ffffff\" fill-opacity=\"1\"/>\n",
       "<defs>\n",
       "  <clipPath id=\"clip4901\">\n",
       "    <rect x=\"120\" y=\"0\" width=\"421\" height=\"400\"/>\n",
       "  </clipPath>\n",
       "</defs>\n",
       "<polygon clip-path=\"url(#clip4900)\" points=\"\n",
       "57.075,375.869 580.315,375.869 580.315,11.811 57.075,11.811 \n",
       "  \" fill=\"#ffffff\" fill-opacity=\"1\"/>\n",
       "<defs>\n",
       "  <clipPath id=\"clip4902\">\n",
       "    <rect x=\"57\" y=\"11\" width=\"524\" height=\"365\"/>\n",
       "  </clipPath>\n",
       "</defs>\n",
       "<polyline clip-path=\"url(#clip4902)\" style=\"stroke:#000000; stroke-width:0.5; stroke-opacity:0.1; fill:none\" points=\"\n",
       "  137.7,375.869 137.7,11.811 \n",
       "  \"/>\n",
       "<polyline clip-path=\"url(#clip4902)\" style=\"stroke:#000000; stroke-width:0.5; stroke-opacity:0.1; fill:none\" points=\"\n",
       "  236.425,375.869 236.425,11.811 \n",
       "  \"/>\n",
       "<polyline clip-path=\"url(#clip4902)\" style=\"stroke:#000000; stroke-width:0.5; stroke-opacity:0.1; fill:none\" points=\"\n",
       "  335.149,375.869 335.149,11.811 \n",
       "  \"/>\n",
       "<polyline clip-path=\"url(#clip4902)\" style=\"stroke:#000000; stroke-width:0.5; stroke-opacity:0.1; fill:none\" points=\"\n",
       "  433.874,375.869 433.874,11.811 \n",
       "  \"/>\n",
       "<polyline clip-path=\"url(#clip4902)\" style=\"stroke:#000000; stroke-width:0.5; stroke-opacity:0.1; fill:none\" points=\"\n",
       "  532.598,375.869 532.598,11.811 \n",
       "  \"/>\n",
       "<polyline clip-path=\"url(#clip4902)\" style=\"stroke:#000000; stroke-width:0.5; stroke-opacity:0.1; fill:none\" points=\"\n",
       "  57.075,327.036 580.315,327.036 \n",
       "  \"/>\n",
       "<polyline clip-path=\"url(#clip4902)\" style=\"stroke:#000000; stroke-width:0.5; stroke-opacity:0.1; fill:none\" points=\"\n",
       "  57.075,273.719 580.315,273.719 \n",
       "  \"/>\n",
       "<polyline clip-path=\"url(#clip4902)\" style=\"stroke:#000000; stroke-width:0.5; stroke-opacity:0.1; fill:none\" points=\"\n",
       "  57.075,220.402 580.315,220.402 \n",
       "  \"/>\n",
       "<polyline clip-path=\"url(#clip4902)\" style=\"stroke:#000000; stroke-width:0.5; stroke-opacity:0.1; fill:none\" points=\"\n",
       "  57.075,167.084 580.315,167.084 \n",
       "  \"/>\n",
       "<polyline clip-path=\"url(#clip4902)\" style=\"stroke:#000000; stroke-width:0.5; stroke-opacity:0.1; fill:none\" points=\"\n",
       "  57.075,113.767 580.315,113.767 \n",
       "  \"/>\n",
       "<polyline clip-path=\"url(#clip4902)\" style=\"stroke:#000000; stroke-width:0.5; stroke-opacity:0.1; fill:none\" points=\"\n",
       "  57.075,60.4501 580.315,60.4501 \n",
       "  \"/>\n",
       "<polyline clip-path=\"url(#clip4900)\" style=\"stroke:#000000; stroke-width:1; stroke-opacity:1; fill:none\" points=\"\n",
       "  57.075,375.869 580.315,375.869 \n",
       "  \"/>\n",
       "<polyline clip-path=\"url(#clip4900)\" style=\"stroke:#000000; stroke-width:1; stroke-opacity:1; fill:none\" points=\"\n",
       "  57.075,375.869 57.075,11.811 \n",
       "  \"/>\n",
       "<polyline clip-path=\"url(#clip4900)\" style=\"stroke:#000000; stroke-width:1; stroke-opacity:1; fill:none\" points=\"\n",
       "  137.7,375.869 137.7,370.408 \n",
       "  \"/>\n",
       "<polyline clip-path=\"url(#clip4900)\" style=\"stroke:#000000; stroke-width:1; stroke-opacity:1; fill:none\" points=\"\n",
       "  236.425,375.869 236.425,370.408 \n",
       "  \"/>\n",
       "<polyline clip-path=\"url(#clip4900)\" style=\"stroke:#000000; stroke-width:1; stroke-opacity:1; fill:none\" points=\"\n",
       "  335.149,375.869 335.149,370.408 \n",
       "  \"/>\n",
       "<polyline clip-path=\"url(#clip4900)\" style=\"stroke:#000000; stroke-width:1; stroke-opacity:1; fill:none\" points=\"\n",
       "  433.874,375.869 433.874,370.408 \n",
       "  \"/>\n",
       "<polyline clip-path=\"url(#clip4900)\" style=\"stroke:#000000; stroke-width:1; stroke-opacity:1; fill:none\" points=\"\n",
       "  532.598,375.869 532.598,370.408 \n",
       "  \"/>\n",
       "<polyline clip-path=\"url(#clip4900)\" style=\"stroke:#000000; stroke-width:1; stroke-opacity:1; fill:none\" points=\"\n",
       "  57.075,327.036 64.9236,327.036 \n",
       "  \"/>\n",
       "<polyline clip-path=\"url(#clip4900)\" style=\"stroke:#000000; stroke-width:1; stroke-opacity:1; fill:none\" points=\"\n",
       "  57.075,273.719 64.9236,273.719 \n",
       "  \"/>\n",
       "<polyline clip-path=\"url(#clip4900)\" style=\"stroke:#000000; stroke-width:1; stroke-opacity:1; fill:none\" points=\"\n",
       "  57.075,220.402 64.9236,220.402 \n",
       "  \"/>\n",
       "<polyline clip-path=\"url(#clip4900)\" style=\"stroke:#000000; stroke-width:1; stroke-opacity:1; fill:none\" points=\"\n",
       "  57.075,167.084 64.9236,167.084 \n",
       "  \"/>\n",
       "<polyline clip-path=\"url(#clip4900)\" style=\"stroke:#000000; stroke-width:1; stroke-opacity:1; fill:none\" points=\"\n",
       "  57.075,113.767 64.9236,113.767 \n",
       "  \"/>\n",
       "<polyline clip-path=\"url(#clip4900)\" style=\"stroke:#000000; stroke-width:1; stroke-opacity:1; fill:none\" points=\"\n",
       "  57.075,60.4501 64.9236,60.4501 \n",
       "  \"/>\n",
       "<g clip-path=\"url(#clip4900)\">\n",
       "<text style=\"fill:#000000; fill-opacity:1; font-family:Arial,Helvetica Neue,Helvetica,sans-serif; font-size:12; text-anchor:middle;\" transform=\"rotate(0, 137.7, 389.669)\" x=\"137.7\" y=\"389.669\">3</text>\n",
       "</g>\n",
       "<g clip-path=\"url(#clip4900)\">\n",
       "<text style=\"fill:#000000; fill-opacity:1; font-family:Arial,Helvetica Neue,Helvetica,sans-serif; font-size:12; text-anchor:middle;\" transform=\"rotate(0, 236.425, 389.669)\" x=\"236.425\" y=\"389.669\">6</text>\n",
       "</g>\n",
       "<g clip-path=\"url(#clip4900)\">\n",
       "<text style=\"fill:#000000; fill-opacity:1; font-family:Arial,Helvetica Neue,Helvetica,sans-serif; font-size:12; text-anchor:middle;\" transform=\"rotate(0, 335.149, 389.669)\" x=\"335.149\" y=\"389.669\">9</text>\n",
       "</g>\n",
       "<g clip-path=\"url(#clip4900)\">\n",
       "<text style=\"fill:#000000; fill-opacity:1; font-family:Arial,Helvetica Neue,Helvetica,sans-serif; font-size:12; text-anchor:middle;\" transform=\"rotate(0, 433.874, 389.669)\" x=\"433.874\" y=\"389.669\">12</text>\n",
       "</g>\n",
       "<g clip-path=\"url(#clip4900)\">\n",
       "<text style=\"fill:#000000; fill-opacity:1; font-family:Arial,Helvetica Neue,Helvetica,sans-serif; font-size:12; text-anchor:middle;\" transform=\"rotate(0, 532.598, 389.669)\" x=\"532.598\" y=\"389.669\">15</text>\n",
       "</g>\n",
       "<g clip-path=\"url(#clip4900)\">\n",
       "<text style=\"fill:#000000; fill-opacity:1; font-family:Arial,Helvetica Neue,Helvetica,sans-serif; font-size:12; text-anchor:end;\" transform=\"rotate(0, 51.075, 331.536)\" x=\"51.075\" y=\"331.536\">4000</text>\n",
       "</g>\n",
       "<g clip-path=\"url(#clip4900)\">\n",
       "<text style=\"fill:#000000; fill-opacity:1; font-family:Arial,Helvetica Neue,Helvetica,sans-serif; font-size:12; text-anchor:end;\" transform=\"rotate(0, 51.075, 278.219)\" x=\"51.075\" y=\"278.219\">6000</text>\n",
       "</g>\n",
       "<g clip-path=\"url(#clip4900)\">\n",
       "<text style=\"fill:#000000; fill-opacity:1; font-family:Arial,Helvetica Neue,Helvetica,sans-serif; font-size:12; text-anchor:end;\" transform=\"rotate(0, 51.075, 224.902)\" x=\"51.075\" y=\"224.902\">8000</text>\n",
       "</g>\n",
       "<g clip-path=\"url(#clip4900)\">\n",
       "<text style=\"fill:#000000; fill-opacity:1; font-family:Arial,Helvetica Neue,Helvetica,sans-serif; font-size:12; text-anchor:end;\" transform=\"rotate(0, 51.075, 171.584)\" x=\"51.075\" y=\"171.584\">10000</text>\n",
       "</g>\n",
       "<g clip-path=\"url(#clip4900)\">\n",
       "<text style=\"fill:#000000; fill-opacity:1; font-family:Arial,Helvetica Neue,Helvetica,sans-serif; font-size:12; text-anchor:end;\" transform=\"rotate(0, 51.075, 118.267)\" x=\"51.075\" y=\"118.267\">12000</text>\n",
       "</g>\n",
       "<g clip-path=\"url(#clip4900)\">\n",
       "<text style=\"fill:#000000; fill-opacity:1; font-family:Arial,Helvetica Neue,Helvetica,sans-serif; font-size:12; text-anchor:end;\" transform=\"rotate(0, 51.075, 64.9501)\" x=\"51.075\" y=\"64.9501\">14000</text>\n",
       "</g>\n",
       "<polyline clip-path=\"url(#clip4902)\" style=\"stroke:#009af9; stroke-width:1; stroke-opacity:1; fill:none\" points=\"\n",
       "  71.8837,354.091 104.792,346.708 137.7,365.565 170.608,351.396 203.516,348.299 236.425,353.275 269.333,337.386 302.241,365.437 335.149,364.55 368.057,332.88 \n",
       "  400.965,286.269 433.874,291.144 466.782,224.832 499.69,187.39 532.598,163.145 565.506,22.1145 \n",
       "  \"/>\n",
       "<polyline clip-path=\"url(#clip4902)\" style=\"stroke:#e26f46; stroke-width:1; stroke-opacity:1; fill:none\" points=\"\n",
       "  71.8837,332.922 104.792,363.75 137.7,354.356 170.608,349.789 203.516,320.854 236.425,321.547 269.333,320.623 302.241,349.474 335.149,323.451 368.057,344.056 \n",
       "  400.965,304.234 433.874,277.502 466.782,286.151 499.69,287.402 532.598,91.5569 565.506,66.2742 \n",
       "  \"/>\n",
       "<polygon clip-path=\"url(#clip4900)\" points=\"\n",
       "489.608,78.051 562.315,78.051 562.315,32.691 489.608,32.691 \n",
       "  \" fill=\"#ffffff\" fill-opacity=\"1\"/>\n",
       "<polyline clip-path=\"url(#clip4900)\" style=\"stroke:#000000; stroke-width:1; stroke-opacity:1; fill:none\" points=\"\n",
       "  489.608,78.051 562.315,78.051 562.315,32.691 489.608,32.691 489.608,78.051 \n",
       "  \"/>\n",
       "<polyline clip-path=\"url(#clip4900)\" style=\"stroke:#009af9; stroke-width:1; stroke-opacity:1; fill:none\" points=\"\n",
       "  495.608,47.811 531.608,47.811 \n",
       "  \"/>\n",
       "<g clip-path=\"url(#clip4900)\">\n",
       "<text style=\"fill:#000000; fill-opacity:1; font-family:Arial,Helvetica Neue,Helvetica,sans-serif; font-size:12; text-anchor:start;\" transform=\"rotate(0, 537.608, 52.311)\" x=\"537.608\" y=\"52.311\">y1</text>\n",
       "</g>\n",
       "<polyline clip-path=\"url(#clip4900)\" style=\"stroke:#e26f46; stroke-width:1; stroke-opacity:1; fill:none\" points=\"\n",
       "  495.608,62.931 531.608,62.931 \n",
       "  \"/>\n",
       "<g clip-path=\"url(#clip4900)\">\n",
       "<text style=\"fill:#000000; fill-opacity:1; font-family:Arial,Helvetica Neue,Helvetica,sans-serif; font-size:12; text-anchor:start;\" transform=\"rotate(0, 537.608, 67.431)\" x=\"537.608\" y=\"67.431\">y2</text>\n",
       "</g>\n",
       "</svg>\n"
      ]
     },
     "execution_count": 13,
     "metadata": {},
     "output_type": "execute_result"
    }
   ],
   "source": [
    "plot(PrAll)\n",
    "plot!(modpf(VolAll,fit.param))"
   ]
  },
  {
   "cell_type": "code",
   "execution_count": 16,
   "metadata": {},
   "outputs": [
    {
     "data": {
      "text/plain": [
       "3-element Array{Float64,1}:\n",
       " 81126.8      \n",
       "     0.0505775\n",
       " 43050.7      "
      ]
     },
     "execution_count": 16,
     "metadata": {},
     "output_type": "execute_result"
    }
   ],
   "source": [
    "fit.param"
   ]
  },
  {
   "cell_type": "code",
   "execution_count": null,
   "metadata": {},
   "outputs": [],
   "source": []
  }
 ],
 "metadata": {
  "kernelspec": {
   "display_name": "Julia 0.6.4",
   "language": "julia",
   "name": "julia-0.6"
  },
  "language_info": {
   "file_extension": ".jl",
   "mimetype": "application/julia",
   "name": "julia",
   "version": "0.6.4"
  },
  "latex_envs": {
   "LaTeX_envs_menu_present": true,
   "autoclose": false,
   "autocomplete": true,
   "bibliofile": "all.bib",
   "cite_by": "apalike",
   "current_citInitial": 1,
   "eqLabelWithNumbers": true,
   "eqNumInitial": 1,
   "hotkeys": {
    "equation": "Ctrl-E",
    "itemize": "Ctrl-I"
   },
   "labels_anchors": false,
   "latex_user_defs": false,
   "report_style_numbering": false,
   "user_envs_cfg": false
  }
 },
 "nbformat": 4,
 "nbformat_minor": 2
}
