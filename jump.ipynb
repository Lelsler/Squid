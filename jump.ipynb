{
 "cells": [
  {
   "cell_type": "code",
   "execution_count": 1,
   "metadata": {},
   "outputs": [],
   "source": [
    "using JuMP\n",
    "using Ipopt"
   ]
  },
  {
   "cell_type": "code",
   "execution_count": 2,
   "metadata": {},
   "outputs": [
    {
     "data": {
      "text/plain": [
       "1.858409479988e9"
      ]
     },
     "execution_count": 2,
     "metadata": {},
     "output_type": "execute_result"
    }
   ],
   "source": [
    "# scales: tons, years, MXNia, hours, trips\n",
    "tmax = 27 # model run, years\n",
    "n1 = -22.239 # ML, slope\n",
    "n2 = 49.811 # ML, intersect\n",
    "l1 = -0.0028 # q, slope\n",
    "l2 = 0.1667 # q, intersect\n",
    "a1 = 1/3.4E7 # proportion of migrating squid, where 3.4E7 max(e^(tau-b1))\n",
    "K = 1208770 # carrying capacity in t\n",
    "f = 40 # l of fuel per trip\n",
    "B_h = 7.203 # hours per fisher\n",
    "B_f = 2 # fisher per panga\n",
    "h1 = 2E-10 # scale E\n",
    "h2 = 0.6596 # scale E\n",
    "\n",
    "\n",
    "### Variables ##################################################################\n",
    "q = Array{Float64}(tmax); # catchability squid population\n",
    "ML = Array{Float64}(tmax); # mantle length\n",
    "y_S = Array{Float64}(tmax); # distance of squid migration from initial fishing grounds\n",
    "R_tt = Array{Float64}(tmax); # trader cooperation\n",
    "S = Array{Float64}(tmax); # size of the squid population\n",
    "c_t = Array{Float64}(tmax); # cost of transport\n",
    "Escal = Array{Float64}(tmax); # scale effort\n",
    "E = Array{Float64}(tmax); # fishing effort\n",
    "p_escal = Array{Float64}(tmax); # export price\n",
    "p_min = Array{Float64}(tmax); # minimum wage\n",
    "R = Array{Float64}(tmax); # revenue of fishers\n",
    "\n",
    "### Initial values #############################################################\n",
    "q[1] = 0.01 # squid catchability\n",
    "y_S[1] = 0.5 # proportion of migrated squid\n",
    "R_tt[1] = 0.5 # trader cooperation\n",
    "S[1] = 1208770 # size of the squid population\n",
    "c_t[1] = 5492603.58*1.4 #m *g # fleet cost of transport\n",
    "E[1] = 1. # fishing effort\n",
    "R[1] = 120877. *15438. -(c_t[1] + E[1]) #C1*p_f-"
   ]
  },
  {
   "cell_type": "code",
   "execution_count": 3,
   "metadata": {},
   "outputs": [
    {
     "data": {
      "text/plain": [
       "13"
      ]
     },
     "execution_count": 3,
     "metadata": {},
     "output_type": "execute_result"
    }
   ],
   "source": [
    "using DataFrames\n",
    "import XLSX\n",
    "df1 = dropmissing(DataFrame(XLSX.readtable(\"./DATA/R3_data.xlsx\", \"Sheet1\")...))\n",
    "Missings.replace\n",
    "# load columns\n",
    "y = df1[:year] #\n",
    "pe = df1[:pe_MXNiat] #\n",
    "pf = df1[:pf_MXNiat] #\n",
    "ct = df1[:C_t] #\n",
    "ssh = df1[:essh_avg] #\n",
    "ml = df1[:ML] #\n",
    "ys = df1[:y_S] #\n",
    "\n",
    "### New max time\n",
    "tmax = length(y)"
   ]
  },
  {
   "cell_type": "code",
   "execution_count": 4,
   "metadata": {},
   "outputs": [],
   "source": [
    "model = JuMP.Model(solver = IpoptSolver(print_level=3, max_iter=99900,print_frequency_iter=50,sb=\"yes\"));"
   ]
  },
  {
   "cell_type": "code",
   "execution_count": 5,
   "metadata": {},
   "outputs": [],
   "source": [
    "@variable(model, 38.750 <= b1 <= 42.1, start = 41.750) # isotherm depth\n",
    "@variable(model, -6.9 <= b2 <= -3.987, start = -5.696) # isotherm depth\n",
    "@variable(model, 11.478 <= b3 <= 16.4, start = 16.397) # isotherm depth\n",
    "@variable(model, 0.01 <= beta <= 0.1, start = 0.0736) # slope of demand-price function\n",
    "@variable(model, 1000.0 <= c_p <= 2148, start = 1776.25) # cost of processing, MXNia/t\n",
    "@variable(model, 0.0 <= g <= 2.9, start = 1.4) # population growth rate\n",
    "@variable(model, 20000.0 <= gamma <= 51000, start = 49200) # maximum demand, t\n",
    "@variable(model, 2368793.0 <= m <= 8450159, start = 5492603.58) # cost per unit of transport all boats, MXN/trip\n",
    "@variable(model, 11956952.0 <= w_m <= 28108539, start = 13355164) # min wage per hour all fleet\n",
    "\n",
    "@variable(model, tau[t=1:tmax]) # temperature\n",
    "@variable(model, p_e[t=1:tmax]) # export price\n",
    "@variable(model, p_f[t=1:tmax]) # price for fishers\n",
    "@variable(model, C[t=1:tmax]) # squid catch TODO: constraint\n",
    "\n",
    "@variable(model, data[t=1:tmax])\n",
    "@variable(model, match)\n",
    "\n",
    "@constraint(model, [t=1:tmax], tau[t] == b1+b2*cos.(t)+b3*sin.(t));\n",
    "@NLconstraint(model, [t=1:tmax], p_e[t] == gamma*(C[t])^(-beta));\n",
    "@constraint(model, [t=1:tmax], p_f[t] == p_e[t] - c_p);\n",
    "@NLconstraint(model, match == sum(abs(p_f[t] - data[t]) for t in 1:tmax));\n",
    "\n",
    "# Initial conditions\n",
    "@constraint(model, tau[1] == 42.);\n",
    "@constraint(model, p_f[1] == 15438.); # max p_f datamares\n",
    "@constraint(model, p_e[1] == 164706.); # max p_e comtrade\n",
    "@constraint(model, C[1] == 120877.); # squid catch\n",
    "@constraint(model, data[t=1:tmax] .== pf[t])\n",
    "\n",
    "@NLobjective(model, Min, match);"
   ]
  },
  {
   "cell_type": "code",
   "execution_count": 6,
   "metadata": {},
   "outputs": [
    {
     "data": {
      "text/plain": [
       ":Error"
      ]
     },
     "execution_count": 6,
     "metadata": {},
     "output_type": "execute_result"
    },
    {
     "name": "stdout",
     "output_type": "stream",
     "text": [
      "Total number of variables............................:       75\n",
      "                     variables with only lower bounds:        0\n",
      "                variables with lower and upper bounds:        9\n",
      "                     variables with only upper bounds:        0\n",
      "Total number of equality constraints.................:       57\n",
      "Total number of inequality constraints...............:        0\n",
      "        inequality constraints with only lower bounds:        0\n",
      "   inequality constraints with lower and upper bounds:        0\n",
      "        inequality constraints with only upper bounds:        0\n",
      "\n",
      "\n",
      "Number of Iterations....: 0\n",
      "\n",
      "Number of objective function evaluations             = 0\n",
      "Number of objective gradient evaluations             = 1\n",
      "Number of equality constraint evaluations            = 1\n",
      "Number of inequality constraint evaluations          = 0\n",
      "Number of equality constraint Jacobian evaluations   = 1\n",
      "Number of inequality constraint Jacobian evaluations = 0\n",
      "Number of Lagrangian Hessian evaluations             = 0\n",
      "Total CPU secs in IPOPT (w/o function evaluations)   =      0.144\n",
      "Total CPU secs in NLP function evaluations           =      0.001\n",
      "\n",
      "EXIT: Invalid number in NLP function or derivative detected.\n"
     ]
    },
    {
     "name": "stderr",
     "output_type": "stream",
     "text": [
      "\u001b[1m\u001b[33mWARNING: \u001b[39m\u001b[22m\u001b[33mIpopt finished with status Invalid_Number_Detected\u001b[39m\n",
      "\u001b[1m\u001b[33mWARNING: \u001b[39m\u001b[22m\u001b[33mNot solved to optimality, status: Error\u001b[39m\n"
     ]
    }
   ],
   "source": [
    "solve(model)"
   ]
  }
 ],
 "metadata": {
  "kernelspec": {
   "display_name": "Julia 0.6.4",
   "language": "julia",
   "name": "julia-0.6"
  },
  "language_info": {
   "file_extension": ".jl",
   "mimetype": "application/julia",
   "name": "julia",
   "version": "0.6.4"
  }
 },
 "nbformat": 4,
 "nbformat_minor": 2
}
