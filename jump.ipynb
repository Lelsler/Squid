{
 "cells": [
  {
   "cell_type": "code",
   "execution_count": null,
   "metadata": {},
   "outputs": [],
   "source": [
    "using JuMP\n",
    "using Ipopt\n",
    "using DataFrames\n",
    "import XLSX"
   ]
  },
  {
   "cell_type": "code",
   "execution_count": null,
   "metadata": {},
   "outputs": [],
   "source": [
    "#These two are interdependent in the model and can be included in the future\n",
    "a1 = 1/3.4e7 # proportion of migrating squid, where 3.4E7 max(e^(tau-b1))\n",
    "K = 1208770.0 # carrying capacity in t\n",
    "# These are the only real constants\n",
    "f = 40.0 # l of fuel per trip\n",
    "B_h = 7.203 # hours per fisher\n",
    "B_f = 2.0 # fisher per panga\n",
    "m = 5492603.58 # cost per unit of transport all boats, MXN/trip\n",
    "c_t = m*f # fleet cost of transport\n",
    "\n",
    "### Initial values #############################################################\n",
    "tau0 = 42.0 # temperature\n",
    "q0 = 0.01 # squid catchability\n",
    "y_S0 = 0.5 # proportion of migrated squid\n",
    "R_tt0 = 0.5 # trader cooperation\n",
    "S0 = 1208770.0 # size of the squid population\n",
    "E0 = 1.0 # fishing effort\n",
    "C0 = 120877.0 # squid catch\n",
    "p_e0 = 164706.0 # max p_e comtrade\n",
    "p_f0 = 15438.0 # max p_f datamares\n",
    "R0 = C0*p_f0-(c_t+E0);"
   ]
  },
  {
   "cell_type": "code",
   "execution_count": null,
   "metadata": {},
   "outputs": [],
   "source": [
    "#df2 looks at 2001-2016, so df1 should only yield that set too\n",
    "df1 = DataFrame(XLSX.readtable(\"./DATA/R3_data.xlsx\", \"Sheet1\")...)\n",
    "# load columns\n",
    "y = Int64.(df1[:year][11:26]) #\n",
    "#pe = Float64.(map(x->ismissing(x) ? NaN : x, df1[:pe_MXNiat][11:26])) #\n",
    "pf = Float64.(df1[:pf_MXNiat][11:26]) #\n",
    "#ct = Float64.(map(x->ismissing(x) ? NaN : x, df1[:C_t][11:26])) #\n",
    "#ssh = Float64.(map(x->ismissing(x) ? NaN : x, df1[:essh_avg][11:26])) #\n",
    "ml = Float64.(df1[:ML][11:26]) #\n",
    "ys = map(x->parse(Float64,x),df1[:y_S][11:26]) #\n",
    "\n",
    "\n",
    "df2 = dropmissing(DataFrame(XLSX.readtable(\"./DATA/PriceVolDataCorrected.xlsx\", \"Sheet1\")...))\n",
    "VolAll = Float64.(df2[:tons_DM]) ## CATCH DATA\n",
    "PrAll = Float64.(df2[:priceMXNia_DM]) ## PRICE DATA \n",
    "\n",
    "### New max time\n",
    "tmax = length(df2[:Year]);"
   ]
  },
  {
   "cell_type": "code",
   "execution_count": null,
   "metadata": {},
   "outputs": [],
   "source": [
    "model = JuMP.Model(solver = IpoptSolver(print_level=3, max_iter=99900,print_frequency_iter=50,sb=\"yes\"));"
   ]
  },
  {
   "cell_type": "markdown",
   "metadata": {},
   "source": [
    "- We're dumping the `E`:`Escal` dynamic, removing `h1`,`h2` and just constraining `E`; where the constraint on `E` was previously the condition for `Escal`.\n",
    "    - This may need some work though. `E` should be between [0,1], therefore `h1`,`h2` seem to be manual constraints anyhow... This means the model should probably be run twice to identify this first, then to grab `C` etc.\n",
    "    - To get this thing feasible, we'll put this back in initially (`h1`,`h2` can be optimised)\n",
    "- It's probable that `m` and `g` are not variable and should indeed be set as input conditions.\n",
    "- Implementing `flag == 1` model for the moment to include `p_min` as a parameter.\n",
    "- We can probably add in migration costs rather than fixed costs (`c_t`).\n",
    "- `a1` seems to be conditional on `max(tau)`...\n",
    "- `cachability` is too hardcoded for my liking\n",
    "- Why is `y_S` confined on [0,1]?"
   ]
  },
  {
   "cell_type": "code",
   "execution_count": null,
   "metadata": {},
   "outputs": [],
   "source": [
    "@variable(model, 38.750 <= b1 <= 42.1, start = 41.750) # isotherm depth (est)\n",
    "@variable(model, -6.9 <= b2 <= -3.987, start = -5.696) # isotherm depth (est)\n",
    "@variable(model, 11.478 <= b3 <= 16.4, start = 16.397) # isotherm depth (est)\n",
    "@variable(model, 0.0 <= beta <= 1.0, start = 0.0736) # slope of demand-price function\n",
    "@variable(model, 1000.0 <= c_p <= 2148.0, start = 1776.25) # cost of processing, MXNia/t\n",
    "@variable(model, 0.0 <= g <= 3.2, start = 1.4) # population growth rate\n",
    "@variable(model, 20000.0 <= gamma <= 51000.0, start = 49200.0) # maximum demand, t\n",
    "@variable(model, 11956952.0 <= w_m <= 28108539.0, start = 13355164.0) # min wage per hour all fleet\n",
    "@variable(model, h1, start = 2e-10) # E scale\n",
    "@variable(model, h2, start = 0.6596) # E scale\n",
    "@variable(model, l1, start = -0.0028) # q scale\n",
    "@variable(model, l2, start = 0.1667) # q scale\n",
    "\n",
    "@variable(model, 20.0 <= tau[t=1:tmax] <= 80.0) # temperature\n",
    "@variable(model, 4000.0 <= p_e[t=1:tmax] <= 100_000.0) # export price\n",
    "@variable(model, q[t=1:tmax]) # catchability squid population\n",
    "@variable(model, 0.0 <= y_S[t=1:tmax] <= 1.0) # Proportion of squid migration from initial fishing grounds\n",
    "@variable(model, R_tt[t=1:tmax]) # trader cooperation\n",
    "@variable(model, p_min[t=1:tmax] >= 0.0) # minimum wage 28_000_000\n",
    "# c_t is per trip so we need to upscale E hr > fisher > trip\n",
    "@variable(model, Escal[t=1:tmax]) # fishing effort\n",
    "@variable(model, 0.0 <= E[t=1:tmax] <= 1.0) # fishing effort\n",
    "@variable(model, S[t=1:tmax] >= 0.0) # size of the squid population 18000 , 1200000\n",
    "@variable(model, C[t=1:tmax]  >= 0.0) # squid catch 10% of S\n",
    "@variable(model, p_f[t=1:tmax]) # price for fishers\n",
    "\n",
    "@variable(model, data[t=1:tmax])\n",
    "@variable(model, match)\n",
    "\n",
    "@constraint(model, [t=1:tmax], tau[t] == b1+b2*cos.(t)+b3*sin.(t));\n",
    "@NLconstraint(model, [t=1:tmax], p_e[t] == gamma*(C[t])^(-beta));\n",
    "@NLconstraint(model, [t=1:tmax-1], Escal[t+1] == E[t]+p_f[t]*q[t]*E[t]*S[t]-c_t*(E[t]/(B_h+B_f)));\n",
    "@constraint(model, [t=1:tmax], E[t] == h1*Escal[t]+h2);\n",
    "@constraint(model, [t=1:tmax], R_tt[t] == 1-y_S[t]);\n",
    "@NLconstraint(model, [t=1:tmax-1], S[t+1] == S[t]+g*S[t]*(1-(S[t]/K))-q[t]*E[t]*S[t]);\n",
    "@NLconstraint(model, [t=1:tmax], C[t] == q[t]*E[t]*S[t]);\n",
    "@NLconstraint(model, [t=1:tmax], p_min[t] == (E[t]*w_m)/C[t]);\n",
    "@constraint(model, [t=1:tmax], p_f[t] == (p_e[t]-c_p)*(1-R_tt[t])+R_tt[t]*p_min[t]);\n",
    "@NLconstraint(model, [t=1:tmax], y_S[t] == a1*exp(tau[t]-b1));\n",
    "@constraint(model, [t=1:tmax], q[t] == l1*tau[t]+l2);\n",
    "#@constraint(model, [t=1:tmax-1], R[t+1] == C[t+1]*p_f[t+1]-c_t*(E[t]/(B_h+B_f)));\n",
    "\n",
    "# Input data\n",
    "@constraint(model, data[t=1:tmax] .== PrAll[t]);\n",
    "\n",
    "# Initial conditions\n",
    "@constraint(model, tau[1] == tau0);  # temperature\n",
    "@constraint(model, p_f[1] == p_f0); # max p_f datamares\n",
    "@constraint(model, p_e[1] == p_e0); # max p_e comtrade\n",
    "@constraint(model, y_S[1] == y_S0); # proportion of migrated squid\n",
    "@constraint(model, R_tt[1] == R_tt0); # trader cooperation\n",
    "@constraint(model, C[1] == C0); # squid catch\n",
    "@constraint(model, q[1] == q0); # squid catchability\n",
    "@constraint(model, E[1] == E0); # fishing effort\n",
    "@constraint(model, S[1] == S0); # size of the squid population\n",
    "\n",
    "#Minimise ther differences between our model and the data\n",
    "#NOTE: Fig1 only currently, fig 2 matches volume `C`\n",
    "@NLconstraint(model, match == sum(abs(p_f[t] - data[t]) for t in 1:tmax));\n",
    "@NLobjective(model, Min, match);"
   ]
  },
  {
   "cell_type": "code",
   "execution_count": null,
   "metadata": {},
   "outputs": [],
   "source": [
    "solve(model)"
   ]
  },
  {
   "cell_type": "markdown",
   "metadata": {},
   "source": [
    "**TODO:** `ML` and `R` have been removed from the model but ultimately are required outputs.\n",
    "They should be post-processed vectors."
   ]
  },
  {
   "cell_type": "code",
   "execution_count": null,
   "metadata": {},
   "outputs": [],
   "source": [
    "using Plots"
   ]
  },
  {
   "cell_type": "code",
   "execution_count": null,
   "metadata": {},
   "outputs": [],
   "source": [
    "plot(y, pf)"
   ]
  },
  {
   "cell_type": "code",
   "execution_count": null,
   "metadata": {},
   "outputs": [],
   "source": []
  }
 ],
 "metadata": {
  "kernelspec": {
   "display_name": "Julia 0.6.4",
   "language": "julia",
   "name": "julia-0.6"
  },
  "language_info": {
   "file_extension": ".jl",
   "mimetype": "application/julia",
   "name": "julia",
   "version": "0.6.4"
  },
  "latex_envs": {
   "LaTeX_envs_menu_present": true,
   "autoclose": false,
   "autocomplete": true,
   "bibliofile": "all.bib",
   "cite_by": "apalike",
   "current_citInitial": 1,
   "eqLabelWithNumbers": true,
   "eqNumInitial": 1,
   "hotkeys": {
    "equation": "Ctrl-E",
    "itemize": "Ctrl-I"
   },
   "labels_anchors": false,
   "latex_user_defs": false,
   "report_style_numbering": false,
   "user_envs_cfg": false
  }
 },
 "nbformat": 4,
 "nbformat_minor": 2
}
