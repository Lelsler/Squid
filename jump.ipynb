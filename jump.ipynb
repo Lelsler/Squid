{
 "cells": [
  {
   "cell_type": "code",
   "execution_count": 1,
   "metadata": {},
   "outputs": [],
   "source": [
    "using JuMP\n",
    "using Ipopt"
   ]
  },
  {
   "cell_type": "code",
   "execution_count": 2,
   "metadata": {},
   "outputs": [
    {
     "data": {
      "text/plain": [
       "1.858409479988e9"
      ]
     },
     "execution_count": 2,
     "metadata": {},
     "output_type": "execute_result"
    }
   ],
   "source": [
    "# scales: tons, years, MXNia, hours, trips\n",
    "n1 = -22.239 # ML, slope\n",
    "n2 = 49.811 # ML, intersect\n",
    "l1 = -0.0028 # q, slope\n",
    "l2 = 0.1667 # q, intersect\n",
    "a1 = 1/3.4E7 # proportion of migrating squid, where 3.4E7 max(e^(tau-b1))\n",
    "K = 1208770 # carrying capacity in t\n",
    "f = 40 # l of fuel per trip\n",
    "B_h = 7.203 # hours per fisher\n",
    "B_f = 2 # fisher per panga\n",
    "\n",
    "### Initial values #############################################################\n",
    "m0 = 1.4 # population growth rate\n",
    "g0 = 5492603.58 # cost per unit of transport all boats, MXN/trip\n",
    "\n",
    "tau0 = 42. # temperature\n",
    "q0 = 0.01 # squid catchability\n",
    "y_S0 = 0.5 # proportion of migrated squid\n",
    "R_tt0 = 0.5 # trader cooperation\n",
    "S0 = 1208770 # size of the squid population\n",
    "c_t0 = m0*g0 # fleet cost of transport\n",
    "E0 = 1. # fishing effort\n",
    "C0 = 120877 # squid catch\n",
    "p_e0 = 164706 # max p_e comtrade\n",
    "p_f0 = 15438 # max p_f datamares\n",
    "R0 = C0*p_f0-(c_t0+E0)"
   ]
  },
  {
   "cell_type": "code",
   "execution_count": 3,
   "metadata": {},
   "outputs": [
    {
     "data": {
      "text/plain": [
       "13"
      ]
     },
     "execution_count": 3,
     "metadata": {},
     "output_type": "execute_result"
    }
   ],
   "source": [
    "using DataFrames\n",
    "import XLSX\n",
    "df1 = dropmissing(DataFrame(XLSX.readtable(\"./DATA/R3_data.xlsx\", \"Sheet1\", infer_eltypes=true)...))\n",
    "# load columns\n",
    "y = Int64.(df1[:year]) #\n",
    "pe = Float64.(df1[:pe_MXNiat]) #\n",
    "pf = Float64.(df1[:pf_MXNiat]) #\n",
    "ct = Float64.(df1[:C_t]) #\n",
    "ssh = Float64.(df1[:essh_avg]) #\n",
    "ml = Float64.(df1[:ML]) #\n",
    "ys = map(x->parse(Float64,x),df1[:y_S]) #\n",
    "### New max time\n",
    "tmax = length(y)"
   ]
  },
  {
   "cell_type": "code",
   "execution_count": 4,
   "metadata": {},
   "outputs": [],
   "source": [
    "model = JuMP.Model(solver = IpoptSolver(print_level=3, max_iter=99900,print_frequency_iter=50,sb=\"yes\"));"
   ]
  },
  {
   "cell_type": "markdown",
   "metadata": {},
   "source": [
    "- We're dumping the `E`:`Escal` dynamic, removing `h1`,`h2` and just constraining `E`; where the constraint on `E` was previously the condition for `Escal`.\n",
    "    - This may need some work though. `E` should be between [0,1], therefore `h1`,`h2` seem to be manual constraints anyhow... This means the model should probably be run twice to identify this first, then to grab `C` etc.\n",
    "- It's probable that `m` and `g` are not variable and should indeed be set as input conditions.\n",
    "- Implementing `flag == 1` model for the moment to include `p_min` as a parameter.\n",
    "- We can probably add in migration costs rather than fixed costs (`c_t`).\n",
    "- `a1` seems to be conditional on `max(tau)`...\n",
    "- `cachability` is too hardcoded for my liking\n"
   ]
  },
  {
   "cell_type": "code",
   "execution_count": 5,
   "metadata": {},
   "outputs": [
    {
     "ename": "LoadError",
     "evalue": "\u001b[91mCannot multiply a quadratic expression by a variable\u001b[39m",
     "output_type": "error",
     "traceback": [
      "\u001b[91mCannot multiply a quadratic expression by a variable\u001b[39m",
      "",
      "Stacktrace:",
      " [1] \u001b[1maddtoexpr_reorder\u001b[22m\u001b[22m\u001b[1m(\u001b[22m\u001b[22m::JuMP.GenericQuadExpr{Float64,JuMP.Variable}, ::Float64, ::Float64, ::JuMP.Variable, ::JuMP.Variable, ::JuMP.Variable, ::Float64\u001b[1m)\u001b[22m\u001b[22m at \u001b[1m/home/tim/.julia/v0.6/JuMP/src/parseExpr_staged.jl:288\u001b[22m\u001b[22m",
      " [2] \u001b[1mmacro expansion\u001b[22m\u001b[22m at \u001b[1m/home/tim/.julia/v0.6/JuMP/src/macros.jl:422\u001b[22m\u001b[22m [inlined]",
      " [3] \u001b[1manonymous\u001b[22m\u001b[22m at \u001b[1m./<missing>:?\u001b[22m\u001b[22m",
      " [4] \u001b[1minclude_string\u001b[22m\u001b[22m\u001b[1m(\u001b[22m\u001b[22m::String, ::String\u001b[1m)\u001b[22m\u001b[22m at \u001b[1m./loading.jl:522\u001b[22m\u001b[22m"
     ]
    }
   ],
   "source": [
    "@variable(model, 38.750 <= b1 <= 42.1, start = 41.750) # isotherm depth\n",
    "@variable(model, -6.9 <= b2 <= -3.987, start = -5.696) # isotherm depth\n",
    "@variable(model, 11.478 <= b3 <= 16.4, start = 16.397) # isotherm depth\n",
    "@variable(model, 0.01 <= beta <= 0.1, start = 0.0736) # slope of demand-price function\n",
    "@variable(model, 1000.0 <= c_p <= 2148, start = 1776.25) # cost of processing, MXNia/t\n",
    "@variable(model, 0.0 <= g <= 2.9, start = g0) # population growth rate\n",
    "@variable(model, 20000.0 <= gamma <= 51000, start = 49200) # maximum demand, t\n",
    "@variable(model, 2368793.0 <= m <= 8450159, start = m0) # cost per unit of transport all boats, MXN/trip\n",
    "@variable(model, 11956952.0 <= w_m <= 28108539, start = 13355164) # min wage per hour all fleet\n",
    "\n",
    "@variable(model, tau[t=1:tmax]) # temperature\n",
    "@variable(model, p_e[t=1:tmax]) # export price\n",
    "@variable(model, q[t=1:tmax]) # catchability squid population\n",
    "@variable(model, ML[t=1:tmax]) # mantle length\n",
    "@variable(model, y_S[t=1:tmax]) # distance of squid migration from initial fishing grounds\n",
    "@variable(model, R_tt[t=1:tmax]) # trader cooperation\n",
    "@variable(model, c_t[t=1:tmax]) # cost of transport\n",
    "@variable(model, p_min[t=1:tmax]) # minimum wage\n",
    "@variable(model, R[t=1:tmax]) # revenue of fishers\n",
    "# c_t is per trip so we need to upscale E hr > fisher > trip\n",
    "@variable(model, -3.1e09 <= E[t=1:tmax] <= 1.6e9) # fishing effort\n",
    "@variable(model, S[t=1:tmax]) # size of the squid population\n",
    "@variable(model, C[t=1:tmax]) # squid catch\n",
    "@variable(model, p_f[t=1:tmax]) # price for fishers\n",
    "\n",
    "@variable(model, data[t=1:tmax])\n",
    "@variable(model, match)\n",
    "\n",
    "@constraint(model, [t=1:tmax], tau[t] == b1+b2*cos.(t)+b3*sin.(t));\n",
    "@NLconstraint(model, [t=1:tmax], p_e[t] == gamma*(C[t])^(-beta));\n",
    "@NLconstraint(model, [t=1:tmax-1], E[t+1] == E[t]+p_f[t]*q[t]*E[t]*S[t]-c_t[t]*(E[t]/(B_h+B_f)));\n",
    "@constraint(model, [t=1:tmax], R_tt[t] == 1-y_S[t]); \n",
    "@constraint(model, [t=1:tmax-1], S[t+1] == S[t]+g*S[t]*(1-(S[t]/K))-q[t]*E[t]*S[t]); \n",
    "# I decided to use fixed costs over migration, that equally well/better predicted\n",
    "# catches over m* (y_S[t]); (source: LabNotesSquid, April 11)\n",
    "@constraint(model, [t=1:tmax], c_t[t] == m*f); \n",
    "@NLconstraint(model, [t=1:tmax], C[t] == q[t]*E[t]*S[t]);\n",
    "@NLconstraint(model, [t=1:tmax], p_min[t] == (E[t]*w_m)/C[t]);\n",
    "@constraint(model, [t=1:tmax], p_f[t] == (p_e[t]-c_p)*(1-R_tt[t])+R_tt[t]*p_min[t]);\n",
    "@constraint(model, [t=1:tmax-1], R[t+1] == C[t+1]*p_f[t+1]-c_t[t]*(E[t]/(B_h+B_f)));"
   ]
  },
  {
   "cell_type": "code",
   "execution_count": 6,
   "metadata": {},
   "outputs": [],
   "source": [
    "# Input data\n",
    "function migration(t)\n",
    "    x = ys[t] == 1.0 ? a1*exp.(tau[t]-b1) : ys[t];\n",
    "    # Coerce squid migration to [0,1]\n",
    "    if x < 0.0\n",
    "        0.0\n",
    "    elseif x > 1.0\n",
    "        1.0\n",
    "    else\n",
    "        x\n",
    "    end\n",
    "end\n",
    "@constraint(model, [t=1:tmax], y_S[t] == migration(t));\n",
    "catchability(t) = ml[t] == 1 ? l1*tau[t]+l2 : 0.0018*ml[t]-0.0318;\n",
    "@constraint(model, [t=1:tmax], q[t] == catchability(t));\n",
    "@constraint(model, ML[t=1:tmax] .== ml[t]);\n",
    "@constraint(model, data[t=1:tmax] .== pf[t]);\n",
    "\n",
    "# Initial conditions\n",
    "@constraint(model, tau[1] == tau0);  # temperature\n",
    "@constraint(model, p_f[1] == p_f0); # max p_f datamares\n",
    "@constraint(model, p_e[1] == p_e0); # max p_e comtrade\n",
    "@constraint(model, y_S[1] == y_S0); # proportion of migrated squid\n",
    "@constraint(model, R_tt[1] == R_tt0); # trader cooperation\n",
    "@constraint(model, c_t[1] == c_t0); # fleet cost of transport\n",
    "@constraint(model, R[1] == R0); # revenue of fishers\n",
    "@constraint(model, C[1] == C0); # squid catch\n",
    "@constraint(model, q[1] == q0); # squid catchability\n",
    "@constraint(model, E[1] == E0); # fishing effort\n",
    "@constraint(model, S[1] == S0); # size of the squid population\n",
    "\n",
    "#Minimise ther differences between our model and the data\n",
    "#NOTE: Fig1 only currently\n",
    "@NLconstraint(model, match == sum(abs(p_f[t] - data[t]) for t in 1:tmax));\n",
    "@NLobjective(model, Min, match);"
   ]
  },
  {
   "cell_type": "code",
   "execution_count": 7,
   "metadata": {},
   "outputs": [
    {
     "data": {
      "text/plain": [
       ":Error"
      ]
     },
     "execution_count": 7,
     "metadata": {},
     "output_type": "execute_result"
    },
    {
     "name": "stdout",
     "output_type": "stream",
     "text": [
      "Total number of variables............................:      192\n",
      "                     variables with only lower bounds:        0\n",
      "                variables with lower and upper bounds:       22\n",
      "                     variables with only upper bounds:        0\n",
      "Total number of equality constraints.................:      115\n",
      "Total number of inequality constraints...............:        0\n",
      "        inequality constraints with only lower bounds:        0\n",
      "   inequality constraints with lower and upper bounds:        0\n",
      "        inequality constraints with only upper bounds:        0\n",
      "\n",
      "\n",
      "Number of Iterations....: 0\n",
      "\n",
      "Number of objective function evaluations             = 0\n",
      "Number of objective gradient evaluations             = 1\n",
      "Number of equality constraint evaluations            = 1\n",
      "Number of inequality constraint evaluations          = 0\n",
      "Number of equality constraint Jacobian evaluations   = 1\n",
      "Number of inequality constraint Jacobian evaluations = 0\n",
      "Number of Lagrangian Hessian evaluations             = 0\n",
      "Total CPU secs in IPOPT (w/o function evaluations)   =      0.124\n",
      "Total CPU secs in NLP function evaluations           =      0.000\n",
      "\n",
      "EXIT: Invalid number in NLP function or derivative detected.\n"
     ]
    },
    {
     "name": "stderr",
     "output_type": "stream",
     "text": [
      "\u001b[1m\u001b[33mWARNING: \u001b[39m\u001b[22m\u001b[33mIpopt finished with status Invalid_Number_Detected\u001b[39m\n",
      "\u001b[1m\u001b[33mWARNING: \u001b[39m\u001b[22m\u001b[33mNot solved to optimality, status: Error\u001b[39m\n"
     ]
    }
   ],
   "source": [
    "solve(model)"
   ]
  }
 ],
 "metadata": {
  "kernelspec": {
   "display_name": "Julia 0.6.4",
   "language": "julia",
   "name": "julia-0.6"
  },
  "language_info": {
   "file_extension": ".jl",
   "mimetype": "application/julia",
   "name": "julia",
   "version": "0.6.4"
  },
  "latex_envs": {
   "LaTeX_envs_menu_present": true,
   "autoclose": false,
   "autocomplete": true,
   "bibliofile": "all.bib",
   "cite_by": "apalike",
   "current_citInitial": 1,
   "eqLabelWithNumbers": true,
   "eqNumInitial": 1,
   "hotkeys": {
    "equation": "Ctrl-E",
    "itemize": "Ctrl-I"
   },
   "labels_anchors": false,
   "latex_user_defs": false,
   "report_style_numbering": false,
   "user_envs_cfg": false
  }
 },
 "nbformat": 4,
 "nbformat_minor": 2
}
